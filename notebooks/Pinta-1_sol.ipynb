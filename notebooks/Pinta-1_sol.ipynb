{
 "cells": [
  {
   "cell_type": "markdown",
   "metadata": {},
   "source": [
    "# Introducción a Python\n",
    "Python es un lenguaje interpretado multiparadigma y de tipado dinámico. Python provee soporte:\n",
    "\n",
    "* Orientación a Objetos.\n",
    "* Estructurada.\n",
    "* Funcional\n",
    "\n",
    "En este curso utilizaremos notebook Python, como el presente. Un notebook Python es un ambiente interactivo que permite integrar código Python, con texto, notación matemática, gráficos y otros contenidos multimedia. Los notebooks utilizados en este curso pueden ser corridos en un ambiente local mediante el uso de [Jupyter](http://jupyter.org/) o en el Cloud de Google mediante [Google Colab](https://colab.research.google.com). A continuación se presenta un ejemplo de código Python que puede ser ejecutado:"
   ]
  },
  {
   "cell_type": "code",
   "execution_count": 1,
   "metadata": {},
   "outputs": [
    {
     "name": "stdout",
     "output_type": "stream",
     "text": [
      "20\n",
      "<class 'int'>\n",
      "Hola Mundo!!!\n",
      "<class 'str'>\n"
     ]
    }
   ],
   "source": [
    "a = 10 #a es de tipo int\n",
    "print(a + 10)\n",
    "print(type(a))\n",
    "\n",
    "a = 'Hola Mundo' #Ahora a es de tipo str\n",
    "print(a + '!!!')\n",
    "print(type(a))"
   ]
  },
  {
   "cell_type": "markdown",
   "metadata": {},
   "source": [
    "La filosofía de Python se puede resumir como el resultado de ejecutar el siguiente código:"
   ]
  },
  {
   "cell_type": "code",
   "execution_count": 2,
   "metadata": {},
   "outputs": [
    {
     "name": "stdout",
     "output_type": "stream",
     "text": [
      "The Zen of Python, by Tim Peters\n",
      "\n",
      "Beautiful is better than ugly.\n",
      "Explicit is better than implicit.\n",
      "Simple is better than complex.\n",
      "Complex is better than complicated.\n",
      "Flat is better than nested.\n",
      "Sparse is better than dense.\n",
      "Readability counts.\n",
      "Special cases aren't special enough to break the rules.\n",
      "Although practicality beats purity.\n",
      "Errors should never pass silently.\n",
      "Unless explicitly silenced.\n",
      "In the face of ambiguity, refuse the temptation to guess.\n",
      "There should be one-- and preferably only one --obvious way to do it.\n",
      "Although that way may not be obvious at first unless you're Dutch.\n",
      "Now is better than never.\n",
      "Although never is often better than *right* now.\n",
      "If the implementation is hard to explain, it's a bad idea.\n",
      "If the implementation is easy to explain, it may be a good idea.\n",
      "Namespaces are one honking great idea -- let's do more of those!\n"
     ]
    }
   ],
   "source": [
    "import this"
   ]
  },
  {
   "cell_type": "markdown",
   "metadata": {},
   "source": [
    "## Estructuras de datos\n",
    "Python prevee diversas estructuras de datos que se pueden utilizar inmediatamente. En particular, Python prevee de:\n",
    "* __Listas__: Una colección de elementos indexados por su posición.\n",
    "* __Conjuntos__: Una colección de elementos no repetidos. Solo se puede acceder de forma secuencial.\n",
    "* __Diccionarios__: Una colección de elementos indexados por claves.\n",
    "* __Tuplas__: Una colección de elementos inmutable indexados por su posición.\n",
    "### Listas\n",
    "Las listas están indexadas numéricamente. De izquierda a derecha los índices comienzan en 0 e incrementan de a uno. En Python también se puede acceder a las listas de derecha a izquierda. En este caso, los índices comienzan en -1, y se decrementan en -1 cuando nos movemos a izquierda. Finalmente, Python también permite hacer slicing de las listas, es decir, obtener sublistas usando índices especiales.\n",
    "* `[X:Y]` Retorna una sublista con los elementos comprendidos entre el índice X (inclusive) y el Y (excluyente).\n",
    "* `[X:]` Retorna una sublista con los elementos a partir del índice X (inclusive)\n",
    "* `[:Y]` Retorna una sublista con los elementos hasta el Y (excluyente).\n",
    "* `[X:Y:S]` Retorna una sublista con los elementos comprendidos entre el índice X (inclusive) y el Y (excluyente), tomados de a S."
   ]
  },
  {
   "cell_type": "code",
   "execution_count": 3,
   "metadata": {},
   "outputs": [
    {
     "name": "stdout",
     "output_type": "stream",
     "text": [
      "lista[1]: mundo\n",
      "lista[-1]: strings\n",
      "lista[1:3]: ['mundo', 'lista']\n",
      "lista[:-2]: ['hola', 'mundo', 'lista', 'Python', 'con', 'muchas', 'palabras', 'representadas']\n",
      "lista[-2:]: ['por', 'strings']\n",
      "lista[4:]: ['con', 'muchas', 'palabras', 'representadas', 'por', 'strings']\n",
      "lista[1:8:3]: ['mundo', 'con', 'representadas']\n"
     ]
    }
   ],
   "source": [
    "#Una lista en Python\n",
    "lista = ['hola', 'mundo', 'lista', 'Python', 'con', 'muchas', 'palabras', 'representadas', 'por', 'strings'] \n",
    "#Accediendo a los elementos\n",
    "print('lista[1]: {}'.format(lista[1])) #Obtiene el elemento indexado con 1 (segundo de la lista)\n",
    "print('lista[-1]: {}'.format(lista[-1])) #Obtiene el elemento indexado con -1 (último de la lista)\n",
    "print('lista[1:3]: {}'.format(lista[1:3])) #Obtiene la sublista que contiene desde el 1 (inclusivo) hasta el 3 (exclusivo)\n",
    "print('lista[:-2]: {}'.format(lista[:-2])) #Obtiene la sublista que contiene hasta el ante-último elemento (exclusivo)\n",
    "print('lista[-2:]: {}'.format(lista[-2:])) #Obtiene la sublista que contiene desde el ante-último elemento (inclusivo)\n",
    "print('lista[4:]: {}'.format(lista[4:])) #Obtiene la sublista que contiene desde el 4 elemento (inclusivo)\n",
    "print('lista[1:8:3]: {}'.format(lista[1:8:3])) #Obtiene la sublista que contiene desde el 1 elemento (inclusivo), hasta el 8 (exclusivo) tomados de a 3."
   ]
  },
  {
   "cell_type": "markdown",
   "metadata": {},
   "source": [
    "### Operaciones sobre las listas\n",
    "Las listas permiten realizar diversas operaciones sobre ella:\n",
    "* `lista.append(elem)`: agrega un elemento a la lista.\n",
    "* `lista.insert(ind, elem)`: inserta el elemento en el índice dado.\n",
    "* `lista.extend(iterable)`: agrega todos los elementos del iterable a la lista.\n",
    "* `elem in lista`: verifica si el elemento está en la lista.\n",
    "* `elem not in lista`: verifica si el elemento no está en la lista.\n",
    "* `del lista[ind]`: elimina el índice (puede ser un slice) de la lista.\n",
    "* `len(lista)`: retorna el tamaño de la lista.\n"
   ]
  },
  {
   "cell_type": "code",
   "execution_count": 4,
   "metadata": {},
   "outputs": [
    {
     "name": "stdout",
     "output_type": "stream",
     "text": [
      "Agregando un elemento******************************\n",
      "['hola', 'mundo', 'lista', 'Python', 'con', 'muchas', 'palabras', 'representadas', 'por', 'strings', 'agregado']\n",
      "Insertando un elemento******************************\n",
      "['hola', 'agregado_en_1', 'mundo', 'lista', 'Python', 'con', 'muchas', 'palabras', 'representadas', 'por', 'strings', 'agregado']\n",
      "Expandiendo la lista******************************\n",
      "['hola', 'agregado_en_1', 'mundo', 'lista', 'Python', 'con', 'muchas', 'palabras', 'representadas', 'por', 'strings', 'agregado', 'otra', 'lista']\n",
      "Verificando si 'hola' está en la lista******************************\n",
      "True\n",
      "Verificando si 'palabra' no está en la lista******************************\n",
      "True\n",
      "Borrando un elemento******************************\n",
      "['hola', 'mundo', 'lista', 'Python', 'con', 'muchas', 'palabras', 'representadas', 'por', 'strings', 'agregado', 'otra', 'lista']\n",
      "Tamaño de la lista******************************\n",
      "13\n"
     ]
    }
   ],
   "source": [
    "print('Agregando un elemento' + '*' * 30)\n",
    "lista.append('agregado')\n",
    "print(lista)\n",
    "print('Insertando un elemento' + '*' * 30)\n",
    "lista.insert(1, 'agregado_en_1')\n",
    "print(lista)\n",
    "print('Expandiendo la lista' + '*' * 30)\n",
    "lista.extend(['otra', 'lista'])\n",
    "print(lista)\n",
    "print('Verificando si \\'hola\\' está en la lista' + '*' * 30)\n",
    "print('hola' in lista)\n",
    "print('Verificando si \\'palabra\\' no está en la lista' + '*' * 30)\n",
    "print('palabra' not in lista)\n",
    "print('Borrando un elemento' + '*' * 30)\n",
    "del lista[1]\n",
    "print(lista)\n",
    "print('Tamaño de la lista' + '*' * 30)\n",
    "print(len(lista))"
   ]
  },
  {
   "cell_type": "markdown",
   "metadata": {},
   "source": [
    "### Conjuntos\n",
    "Los conjuntos son colecciones de elementos no repetidos sin ningún orden en particular. Pueden ser definidos por extensión utilizando llaves.\n",
    "* `{elem1, elem2, ...}`: inicializa un conjunto por extensión. `{}` no puede ser utilizado para inicializar un conjunto vacio, ya que está asignado al diccionario vacio.\n",
    "* `set()` o `set(iterable)`: inicializa el conjunto vacio, o con todos los elementos no repetidos de un iterable, por ejemplo otro conjunto o una lista.\n",
    "* `elem in conjunto`: verifica si el elemento está en el conjunto.\n",
    "* `elem not in conjunto`: verifica si el elemento no está en el conjunto.\n",
    "* `conjunto.isdisjoint(iterable)`: verifica si ninguno de los elementes del conjunto está en el iterable.\n",
    "* `conjunto.issubset(iterable)`: verifica si todos los elementos del conjunto están en el iterable.\n",
    "* `conjunto <= conjunto2`: verifica si todos los elementos del conjunto están en contenidos en otro _conjunto_.\n",
    "* `conjunto < conjunto2`: verifica si todos los elementos del conjunto están en contenidos en otro _conjunto_ y que el mismo tenga más elementos que el primero.\n",
    "* `conjunto.issuperset(iterable)`: verifica si todos los elementos del iterable están en el conjunto. \n",
    "* `conjunto >= conjunto2`: verifica si todos los elementos del segundo _conjunto_ están en contenidos en el primer conjunto.\n",
    "* `conjunto > conjunto2`: \n",
    "* `conjunto.intersection(iterable)`: retorna la intersección del conjunto un los elementos de un iterable.\n",
    "* `conjunto & conjunto2`: retorna la intersección del conjunto otro _conjunto_.\n",
    "* `conjunto.union(iterable)`: retorna la unión del conjunto un los elementos de un iterable.\n",
    "* `conjunto | conjunto2`: retorna la unión del conjunto otro _conjunto_.\n",
    "* `conjunto.difference(iterable)`: retorna los elementos del conjunto que no estén en el iterable.\n",
    "* `conjunto - conjunto2`: retorna los elementos del conjunto que no estén en el segundo _conjunto_.\n",
    "* `conjunto.symmetric_difference(iterable)`: retorna los elementos que estén en el conjunto o en el iterable, pero no en ambos.\n",
    "* `conjunto ^ conjunto2`: retorna los elementos que estén en el conjunto o en el segundo _conjunto_, pero no en ambos.\n",
    "* `len(conjunto)`: retorna la cantidad de elementos en un conjunto.\n",
    "* `conjunto.add(elem)`: agrega un elemento en el conjuntos.\n",
    "* `conjunto.remove(elem)`: elimina un elemento del conjuntos.\n"
   ]
  },
  {
   "cell_type": "code",
   "execution_count": 5,
   "metadata": {},
   "outputs": [
    {
     "name": "stdout",
     "output_type": "stream",
     "text": [
      "Vocales: {'E', 'O', 'a', 'e', 'u', 'A', 'I', 'o', 'i', 'U'}\n",
      "Mayúsculas: {'C', 'U', 'N', 'J', 'P', 'T', 'X', 'K', 'B', 'S', 'R', 'E', 'G', 'F', 'D', 'L', 'O', 'A', 'I', 'Y', 'V', 'H', 'Z', 'M', 'Q'}\n"
     ]
    }
   ],
   "source": [
    "vocales = {'a', 'e', 'i', 'o', 'u', 'A', 'E', 'I', 'O', 'U'}\n",
    "mayusculas = set('ABCDEFGHIJKLMNOPQRSTUVXYZ')\n",
    "print('Vocales: {}'.format(vocales))\n",
    "print('Mayúsculas: {}'.format(mayusculas))"
   ]
  },
  {
   "cell_type": "markdown",
   "metadata": {},
   "source": [
    "### Ejercicios\n",
    "1. A partir de los conjuntos anteriores obtenga todas las vocales mayúsculas.\n",
    "2. Verifique si 'a' es mayúscula.\n",
    "3. Verifique si 'a' es vocal.\n",
    "4. ¿Cuántas vocales mayúsculas hay?\n",
    "5. Construya un conjunto con todas las vocales minúsculas y las consonantes mayúsculas."
   ]
  },
  {
   "cell_type": "code",
   "execution_count": 6,
   "metadata": {},
   "outputs": [
    {
     "name": "stdout",
     "output_type": "stream",
     "text": [
      "Resultado ejercicio 1:\n",
      "{'E', 'O', 'A', 'I', 'U'}\n",
      "Resultado ejercicio 2:\n",
      "False\n",
      "Resultado ejercicio 3:\n",
      "True\n",
      "Resultado ejercicio 4:\n",
      "5\n",
      "Resultado ejercicio 5:\n",
      "{'G', 'F', 'C', 'D', 'L', 'a', 'e', 'i', 'N', 'J', 'P', 'Y', 'T', 'V', 'H', 'Z', 'X', 'u', 'K', 'M', 'o', 'B', 'S', 'R', 'Q'}\n"
     ]
    }
   ],
   "source": [
    "#Complete en código\n",
    "print('Resultado ejercicio 1:')\n",
    "res = mayusculas & vocales #Tambíen mayusculas.intersection(vocales)\n",
    "print(res)\n",
    "print('Resultado ejercicio 2:')\n",
    "res = 'a' in mayusculas\n",
    "print(res)\n",
    "print('Resultado ejercicio 3:')\n",
    "res = 'a' in vocales\n",
    "print(res)\n",
    "print('Resultado ejercicio 4:')\n",
    "res = len(mayusculas & vocales)\n",
    "print(res)\n",
    "print('Resultado ejercicio 5:')\n",
    "res = (vocales - mayusculas) | (mayusculas - vocales)\n",
    "print(res)"
   ]
  },
  {
   "cell_type": "markdown",
   "metadata": {},
   "source": [
    "### Diccionarios\n",
    "Los diccionarios son estructuras que indexan sus elementos a través de claves (que deben ser objetos [hashable](https://docs.python.org/3/glossary.html#term-hashable)).\n",
    "* `d[clave]`: retorna el valor asociado a la clave. Si la clave no tiene valor asociado dispara [KeyError](https://docs.python.org/3/library/stdtypes.html#set). Las subclases de diccionario pueden redefinir el método `__missing(self, key)__`.\n",
    "* `d[clave] = elem`: asigna un elemento a la clave. Si la clave ya tiene un elemento asignado se sobreescribe.\n",
    "* `del d[clave]`: elimina una clave del diccionario.\n",
    "* `clave in d`: verifica si la clave está entre las claves del diccionario.\n",
    "* `clave not in d`: verifica si la clave no está entre las claves del diccionario.\n",
    "* `len(d)`: retorna la cantidad de elementos mapeados por el diccionario.\n",
    "* `d.items()`: retorna una vista iterable de tuplas (clave, elemento) mapeados en el diccionario.\n",
    "* `d.keys()`: retorna una vista de las claves asignadas en el diccionario.\n",
    "* `d.values()`: retorna una vista iterable de los elementos mapeados por claves en el diccionario."
   ]
  },
  {
   "cell_type": "code",
   "execution_count": 7,
   "metadata": {},
   "outputs": [
    {
     "name": "stdout",
     "output_type": "stream",
     "text": [
      "23231\n",
      "dict_keys(['juan', 'paula', 'christian'])\n",
      "dict_values([23231, 23543, 23468])\n",
      "dict_items([('juan', 23231), ('paula', 23543), ('christian', 23468)])\n",
      "3\n",
      "{'juan': 23231, 'paula': 23543, 'christian': 23468, 'manuel': 23245}\n",
      "{'juan': 23231, 'paula': 23543, 'christian': 23468, 'manuel': 11111}\n"
     ]
    }
   ],
   "source": [
    "diccionario = {'juan': 23231, 'paula': 23543, 'christian': 23468}\n",
    "print(diccionario['juan'])\n",
    "print(diccionario.keys())\n",
    "print(diccionario.values())\n",
    "print(diccionario.items())\n",
    "print(len(diccionario))\n",
    "diccionario['manuel'] = 23245\n",
    "print(diccionario)\n",
    "diccionario['manuel'] = 11111\n",
    "print(diccionario)"
   ]
  },
  {
   "cell_type": "markdown",
   "metadata": {},
   "source": [
    "### Tuplas\n",
    "Las tuplas son secuencias [inmutables](https://docs.python.org/3/glossary.html#term-immutable) de elementos heterogenios que pueden ser accedidos a través de índices o desempaquetado. Un ejemplo de la utilización de tuplas está dado por el método `items(self)` de los diccionarios."
   ]
  },
  {
   "cell_type": "code",
   "execution_count": 8,
   "metadata": {},
   "outputs": [
    {
     "name": "stdout",
     "output_type": "stream",
     "text": [
      "Tupla es <class 'tuple'> y tiene 3 elementos\n",
      "El primer elemento de la tupla es Tupla\n",
      "El segundo elemento de la tupla es 10\n",
      "El tercer elemento de la tupla es Elemento\n"
     ]
    }
   ],
   "source": [
    "tupla = ('Tupla', 10, 'Elemento')\n",
    "print('Tupla es {} y tiene {} elementos'.format(type(tupla), len(tupla)))\n",
    "stg0, int1, stg2 = tupla\n",
    "print('El primer elemento de la tupla es {}'.format(stg0))\n",
    "print('El segundo elemento de la tupla es {}'.format(int1))\n",
    "print('El tercer elemento de la tupla es {}'.format(stg2))"
   ]
  },
  {
   "cell_type": "markdown",
   "metadata": {},
   "source": [
    "## Estructuras de control\n",
    "Al igual que lenguages como C, Pascal o Java, Python cuenta con estructuras de control del tipo _if_, _while_ y _for_. Como en C o Java, también posee las sentencias _break_ y _continue_, que permiten controlar los fujos de los _while_ y _for_. \n",
    "### Senencias *if*\n",
    "Las sentencias *if* permiten seleccionar ramas de ejecución a través del valor de verdad de expresiones lógicas. Python no provee estructuras del tipo _case_-_switch_, pero pueden ser emuladas utilizando *if* y _elif_. Para definir el alcance de una rama de un *if* se utilizan bloques de código. A diferencia de C o Java, un bloque de código no se define por delimitadores como llaves o palabras claves, sino que mediante identación. Python soporta identación por medio de tabuladores o espacios, pero no combinación de los dos. Sobre estos dos métodos, el recomendado por el [PEP8: Style Guide for Python Code](https://www.python.org/dev/peps/pep-0008/) son 4 espacios."
   ]
  },
  {
   "cell_type": "code",
   "execution_count": 9,
   "metadata": {},
   "outputs": [
    {
     "name": "stdout",
     "output_type": "stream",
     "text": [
      "Ingrese un número 23\n",
      "x es mayor que 1\n",
      "x = 23\n"
     ]
    }
   ],
   "source": [
    "x = int(input('Ingrese un número '))\n",
    "if x < 0:\n",
    "    print('x es menor que cero, x pasará a ser 0')\n",
    "    x = 0\n",
    "elif x == 0:\n",
    "    print('x es cero')\n",
    "elif x == 1:\n",
    "    print('x es uno')\n",
    "else:\n",
    "    print('x es mayor que 1')\n",
    "print('x = {}'.format(x))"
   ]
  },
  {
   "cell_type": "markdown",
   "metadata": {},
   "source": [
    "### Sentencias _while_\n",
    "Las sentencias _while_ ejecutan un bloque de código hasta que se cumpla una condición."
   ]
  },
  {
   "cell_type": "code",
   "execution_count": 10,
   "metadata": {},
   "outputs": [
    {
     "name": "stdout",
     "output_type": "stream",
     "text": [
      "Ingrese un número 12\n",
      "Ingrese otro número 24\n",
      "El MCD de los números ingresados es 12\n"
     ]
    }
   ],
   "source": [
    "x = int(input('Ingrese un número '))\n",
    "y = int(input('Ingrese otro número '))\n",
    "while x != y:\n",
    "    if x > y:\n",
    "        x -= y\n",
    "    else:\n",
    "        y -= x\n",
    "print('El MCD de los números ingresados es {}'.format(x))"
   ]
  },
  {
   "cell_type": "markdown",
   "metadata": {},
   "source": [
    "También se puede usar la sentencia _break_:"
   ]
  },
  {
   "cell_type": "code",
   "execution_count": 11,
   "metadata": {},
   "outputs": [
    {
     "name": "stdout",
     "output_type": "stream",
     "text": [
      "Ingrese un número 23\n",
      "Ingrese otro número 234\n",
      "El MCD de los números ingresados es 1\n"
     ]
    }
   ],
   "source": [
    "x = int(input('Ingrese un número '))\n",
    "y = int(input('Ingrese otro número '))\n",
    "while True:\n",
    "    if x > y:\n",
    "        x -= y\n",
    "    elif x < y:\n",
    "        y -= x\n",
    "    else:\n",
    "        break\n",
    "print('El MCD de los números ingresados es {}'.format(x))"
   ]
  },
  {
   "cell_type": "markdown",
   "metadata": {},
   "source": [
    "### Sentencias _for_\n",
    "A diferencia de C o Java, las sentencias _for_ trabajan como un for-each, que permite recorrer los elementos de un iterable."
   ]
  },
  {
   "cell_type": "code",
   "execution_count": 12,
   "metadata": {},
   "outputs": [
    {
     "name": "stdout",
     "output_type": "stream",
     "text": [
      "elemento 0\n",
      "elemento 1\n",
      "elemento 2\n",
      "elemento 3\n",
      "elemento 4\n"
     ]
    }
   ],
   "source": [
    "lista = ['elemento 0', 'elemento 1', 'elemento 2', 'elemento 3', 'elemento 4']\n",
    "for i in lista:\n",
    "    print(i)"
   ]
  },
  {
   "cell_type": "markdown",
   "metadata": {},
   "source": [
    "En caso de que se quiera iterar una secuencia de enteros, exite la función _range_ que retorna un iterable.\n",
    "* `range(x)`: un iterable que retorna los enteros desde cero hasta _x-1_, con un incremento de a 1.\n",
    "* `range(y, x)`: un iterable que retorna los enteros desde _y_ hasta _x-1_, con un incremento de a 1.\n",
    "* `range(y, x, s)`: un iterable que retorna los enteros desde _y_ hasta _x-1_, con un incremento de a _s_."
   ]
  },
  {
   "cell_type": "code",
   "execution_count": 13,
   "metadata": {},
   "outputs": [
    {
     "name": "stdout",
     "output_type": "stream",
     "text": [
      "10\n",
      "12\n",
      "14\n",
      "16\n",
      "18\n"
     ]
    }
   ],
   "source": [
    "for i in range(10, 20, 2):\n",
    "    print(i)"
   ]
  },
  {
   "cell_type": "markdown",
   "metadata": {},
   "source": [
    "La sentencia _for_ permite hacer desempaquetado de tuplas. Por ejemplo, esto es útil para recorrer todos los items de un diccionario."
   ]
  },
  {
   "cell_type": "code",
   "execution_count": 14,
   "metadata": {},
   "outputs": [
    {
     "name": "stdout",
     "output_type": "stream",
     "text": [
      "La clave juan está asociada al valor 23231\n",
      "La clave paula está asociada al valor 23543\n",
      "La clave christian está asociada al valor 23468\n",
      "La clave manuel está asociada al valor 11111\n"
     ]
    }
   ],
   "source": [
    "for k, v in diccionario.items():\n",
    "    print('La clave {} está asociada al valor {}'.format(k, v))"
   ]
  },
  {
   "cell_type": "markdown",
   "metadata": {},
   "source": [
    "Python provee otras funciones útiles que aprobechan esta carácteristica:\n",
    "* `enumerate(iterable)`: retorna un nuevo iterable que retorna tuplas del tipo (index, elemento). Por defecto, empieza a enumerar en 0.\n",
    "* `enumerate(iterable, start)`: retorna un nuevo iterable que retorna tuplas del tipo (index, elemento). La enumeración comienza con el valor _start_.\n",
    "* `zip(*iterables)`: retorna un iterable retorna tuplas donde la i-esima tupla corresponde con i-esimo valor de todos los iterables pasados como parámetro."
   ]
  },
  {
   "cell_type": "code",
   "execution_count": 15,
   "metadata": {},
   "outputs": [
    {
     "name": "stdout",
     "output_type": "stream",
     "text": [
      "índice: 0 - Elemento: elemento 0\n",
      "índice: 1 - Elemento: elemento 1\n",
      "índice: 2 - Elemento: elemento 2\n",
      "índice: 3 - Elemento: elemento 3\n",
      "índice: 4 - Elemento: elemento 4\n"
     ]
    }
   ],
   "source": [
    "for i, e in enumerate(lista):\n",
    "    print('índice: {} - Elemento: {}'.format(i, e))"
   ]
  },
  {
   "cell_type": "code",
   "execution_count": 16,
   "metadata": {},
   "outputs": [
    {
     "name": "stdout",
     "output_type": "stream",
     "text": [
      "['juan', 'paula', 'christian', 'manuel']\n",
      "[23231, 23543, 23468, 11111]\n",
      "La clave juan está asociada al valor 23231\n",
      "La clave paula está asociada al valor 23543\n",
      "La clave christian está asociada al valor 23468\n",
      "La clave manuel está asociada al valor 11111\n"
     ]
    }
   ],
   "source": [
    "#keys y values aseguran que los elementos se obtengan en el mismo orden\n",
    "claves = list(diccionario.keys())\n",
    "valores = list(diccionario.values())\n",
    "print(claves)\n",
    "print(valores)\n",
    "for k, v in zip(claves, valores):\n",
    "    print('La clave {} está asociada al valor {}'.format(k, v))"
   ]
  },
  {
   "cell_type": "markdown",
   "metadata": {},
   "source": [
    "## Funciones\n",
    "Las funciones se definen utilizando la palabra clave `def`. Al igual que las sentencias de control, la identación define los bloques de código. Las funciones permiten:\n",
    "* Los parámetros pueden ser pasados posicionalmente.\n",
    "* Los parámetros pueden ser pasados por su nombre.\n",
    "* Los parámetros pueden ser tener un valor por defecto.\n",
    "* Los parámetros pueden ser variables en cantidad y en nombre.\n",
    "\n",
    "\n",
    " _Nota_: Una vez que un parámetro es pasado por nombre, todos los siguientes deben ser pasados por nombre."
   ]
  },
  {
   "cell_type": "code",
   "execution_count": 17,
   "metadata": {},
   "outputs": [
    {
     "name": "stdout",
     "output_type": "stream",
     "text": [
      "100\n",
      "100\n"
     ]
    }
   ],
   "source": [
    "def cuadrado(a):\n",
    "    return a ** 2\n",
    "\n",
    "print(cuadrado(10))\n",
    "c = cuadrado\n",
    "print(c(10))"
   ]
  },
  {
   "cell_type": "code",
   "execution_count": 18,
   "metadata": {},
   "outputs": [
    {
     "name": "stdout",
     "output_type": "stream",
     "text": [
      "El cuadrado de 10 es 100\n",
      "El cubo de 10 es 1000\n",
      "El cubo de 10 es 1000\n"
     ]
    }
   ],
   "source": [
    "def potencia(a, p=2):\n",
    "    return a ** p\n",
    "\n",
    "print('El cuadrado de 10 es {}'.format(potencia(10)))\n",
    "print('El cubo de 10 es {}'.format(potencia(10, 3)))\n",
    "print('El cubo de 10 es {}'.format(potencia(p=3, a=10)))\n"
   ]
  },
  {
   "cell_type": "markdown",
   "metadata": {},
   "source": [
    "Los parámetros por defecto son inicializados la primera vez que se parsea la función, por lo que es recomendable que sean inmutables."
   ]
  },
  {
   "cell_type": "code",
   "execution_count": 19,
   "metadata": {},
   "outputs": [
    {
     "name": "stdout",
     "output_type": "stream",
     "text": [
      "[10]\n",
      "[10, 20]\n",
      "[10, 20, 30]\n"
     ]
    }
   ],
   "source": [
    "#l se inicializa como una lista vacía. Esto puede tener problemas.\n",
    "def agregar(a, l=[]):\n",
    "    l.append(a)\n",
    "    return l\n",
    "\n",
    "#¿Qué sucede cuando agrego varios elementos al parámetro por defecto?\n",
    "print(agregar(10))\n",
    "print(agregar(20))\n",
    "print(agregar(30))"
   ]
  },
  {
   "cell_type": "markdown",
   "metadata": {},
   "source": [
    "Si este no es el efecto deseado, puede ser solucionado:"
   ]
  },
  {
   "cell_type": "code",
   "execution_count": 20,
   "metadata": {},
   "outputs": [
    {
     "name": "stdout",
     "output_type": "stream",
     "text": [
      "[10]\n",
      "[20]\n",
      "[30]\n"
     ]
    }
   ],
   "source": [
    "def agregar(a, l=None):\n",
    "    if l is None:\n",
    "        l = []\n",
    "    l.append(a)\n",
    "    return l\n",
    "\n",
    "#¿Qué sucede cuando agrego varios elementos al parámetro por defecto?\n",
    "print(agregar(10))\n",
    "print(agregar(20))\n",
    "print(agregar(30))"
   ]
  },
  {
   "cell_type": "markdown",
   "metadata": {},
   "source": [
    "### Parámetros de longitud variable y nombrados.\n",
    "* Los parámetros de longitud variable se ponen después de todos los parámetros formales. Se indican que son de longitud variable con un asterisco al principio del nombre, y van después de los parámetros obligatorios. Generalmente se los nombra _\\*args_.\n",
    "* Los parámetros con nombre se indican un doble asterisco y van al final de todo. Generalmente se los nombre _\\*\\*kwargs_."
   ]
  },
  {
   "cell_type": "code",
   "execution_count": 21,
   "metadata": {},
   "outputs": [
    {
     "name": "stdout",
     "output_type": "stream",
     "text": [
      "a: 1\n",
      "b_def: 10\n",
      "args: ()\n",
      "kwargs: {}\n",
      "********************************************************************************\n",
      "a: 1\n",
      "b_def: 2\n",
      "args: (3, 4, 5)\n",
      "kwargs: {}\n",
      "********************************************************************************\n",
      "a: 1\n",
      "b_def: 2\n",
      "args: (3, 4, 5)\n",
      "kwargs: {'n1': 'n1v', 'n2': 'n2v', 'n3': 'n3v'}\n",
      "********************************************************************************\n",
      "a: 1\n",
      "b_def: 10\n",
      "args: ()\n",
      "kwargs: {'n1': 'n1v', 'n2': 'n2v', 'n3': 'n3v'}\n",
      "********************************************************************************\n"
     ]
    }
   ],
   "source": [
    "def fun1(a, b_def=10, *args, **kwargs):\n",
    "    print('a: {}'.format(a))\n",
    "    print('b_def: {}'.format(b_def))\n",
    "    print('args: {}'.format(args))\n",
    "    print('kwargs: {}'.format(kwargs))\n",
    "    print('*' * 80)\n",
    "\n",
    "fun1(1)\n",
    "fun1(1, 2, 3, 4, 5)\n",
    "fun1(1, 2, 3, 4, 5, n1='n1v', n2='n2v', n3='n3v')\n",
    "fun1(1, n1='n1v', n2='n2v', n3='n3v')"
   ]
  },
  {
   "cell_type": "markdown",
   "metadata": {},
   "source": [
    "Asterisco y doble asterisco pueden ser usados para desempacar listas y diccionarios cuando se pasan por parámetros.\n",
    "\n",
    "¿Cuál es la diferencia entre las siguientes llamadas? ¿Son todas posibles? \n",
    "```\n",
    "fun1(lista)\n",
    "fun1(diccionario)\n",
    "fun1(*lista)\n",
    "fun1(**diccionario)\n",
    "```\n",
    "En caso de que una llamada falle, proponga una solución para el problema."
   ]
  },
  {
   "cell_type": "code",
   "execution_count": 22,
   "metadata": {},
   "outputs": [
    {
     "name": "stdout",
     "output_type": "stream",
     "text": [
      "a: ['elemento 0', 'elemento 1', 'elemento 2', 'elemento 3', 'elemento 4']\n",
      "b_def: 10\n",
      "args: ()\n",
      "kwargs: {}\n",
      "********************************************************************************\n",
      "a: {'juan': 23231, 'paula': 23543, 'christian': 23468, 'manuel': 11111}\n",
      "b_def: 10\n",
      "args: ()\n",
      "kwargs: {}\n",
      "********************************************************************************\n",
      "a: elemento 0\n",
      "b_def: elemento 1\n",
      "args: ('elemento 2', 'elemento 3', 'elemento 4')\n",
      "kwargs: {}\n",
      "********************************************************************************\n",
      "a: Valor A\n",
      "b_def: 10\n",
      "args: ()\n",
      "kwargs: {'juan': 23231, 'paula': 23543, 'christian': 23468, 'manuel': 11111}\n",
      "********************************************************************************\n",
      "a: Valor A\n",
      "b_def: 10\n",
      "args: ()\n",
      "kwargs: {'juan': 23231, 'paula': 23543, 'christian': 23468, 'manuel': 11111}\n",
      "********************************************************************************\n"
     ]
    }
   ],
   "source": [
    "fun1(lista)\n",
    "fun1(diccionario)\n",
    "fun1(*lista)\n",
    "#dos opciones porq falla la última\n",
    "fun1(**diccionario, a = 'Valor A')\n",
    "diccionario2 = dict(diccionario)\n",
    "diccionario2['a'] = 'Valor A'\n",
    "fun1(**diccionario2)"
   ]
  },
  {
   "cell_type": "markdown",
   "metadata": {},
   "source": [
    "## Generadores\n",
    "Funciones como `enumerate` son conocidas como generadores (`range` es un caso partícular que se discutirá más adelante). Esto significa que, en vez de calcular todos los valores cuando es llamada, calcula el valor cada vez que es necesario extraer uno de ellos. En particular, existen dos maneras de que un generador retorne su próximo valor. La primera es en una sentencia `for`, donde los valores se extraídos de forma implícita cada vez que se realiza una iteración. La segunda es explícitamente, llamando a la función `next` sobre el iterador."
   ]
  },
  {
   "cell_type": "code",
   "execution_count": 23,
   "metadata": {},
   "outputs": [
    {
     "name": "stdout",
     "output_type": "stream",
     "text": [
      "<enumerate object at 0x7f2cd2ee0678>\n",
      "(0, 'V1')\n",
      "(1, 'V2')\n",
      "(2, 'V3')\n"
     ]
    }
   ],
   "source": [
    "gen = enumerate(['V1', 'V2', 'V3'])\n",
    "#Imprimo el generador\n",
    "print(gen)\n",
    "#Imprimo el primer valor\n",
    "print(next(gen))\n",
    "#Imprimo el segundo valor\n",
    "print(next(gen))\n",
    "#Imprimo el tercer valor\n",
    "print(next(gen))"
   ]
  },
  {
   "cell_type": "markdown",
   "metadata": {},
   "source": [
    "### Ejercicio\n",
    "Vuelva a invocar la función `next` sobre el generador y conteste: ¿Cómo sabe `next` cuando termina un generados? "
   ]
  },
  {
   "cell_type": "code",
   "execution_count": 24,
   "metadata": {},
   "outputs": [
    {
     "name": "stdout",
     "output_type": "stream",
     "text": [
      "Error\n"
     ]
    }
   ],
   "source": [
    "try:\n",
    "    print(next(gen))\n",
    "except StopIteration:\n",
    "    print('Error')"
   ]
  },
  {
   "cell_type": "markdown",
   "metadata": {},
   "source": [
    "### Ejercicio\n",
    "Escriba un generador que dada una lista con valores númericos retorne el acumulado. Considere:\n",
    "* `yield`: es una palabra clave que funciona como `return` salvo que puede ser llamada más de una vez. Cada vez que se llama retorna un valor y bloquea la ejecución de la función hasta que `next` sea invocado sobre el iterador.\n",
    "* `raise ExceptionName`: dispara una excepción. ¿Para qué podría ser util?"
   ]
  },
  {
   "cell_type": "code",
   "execution_count": 25,
   "metadata": {},
   "outputs": [
    {
     "name": "stdout",
     "output_type": "stream",
     "text": [
      "El acumulado hasta aquí es: 10\n",
      "El acumulado hasta aquí es: 11\n",
      "El acumulado hasta aquí es: 13\n",
      "El acumulado hasta aquí es: 16\n",
      "El acumulado hasta aquí es: 21\n"
     ]
    }
   ],
   "source": [
    "def acumulado(lista):\n",
    "    sum = 0\n",
    "    for x in lista:\n",
    "        sum += x\n",
    "        yield sum\n",
    "    return\n",
    "\n",
    "l = [10, 1, 2, 3, 5]\n",
    "for v in acumulado(l):\n",
    "    print('El acumulado hasta aquí es: {}'.format(v))"
   ]
  },
  {
   "cell_type": "markdown",
   "metadata": {},
   "source": [
    "## Clases\n",
    "Python provee la posibilidad de definir clases donde se empaquetan tanto datos como atributos. Python provee soporte para herencia múltiple, sobreescritura de métodos, llamado a super métodos y modificación dinámica de los atributos de una clase.\n",
    "* Todos los métodos de instancia reciben el parámetro `self`, que es automáticamente pasado. Es el equivalente al `this` de C++ o Java.\n",
    "* Los atributos no se definene cuando se realiza la primera asignación, puede ser en el constructor `__init__(self, ....)` o en cualquier otro método.\n",
    "* Se puede chequear si una clase tiene o no un atributo con la función `hasattr(obj, nombre_att)`. Notese que si el atributo está definido como `None`, el atributo está definido.\n",
    "* `__str__(self)` es el equivalente al método `toString()` de Java."
   ]
  },
  {
   "cell_type": "code",
   "execution_count": 26,
   "metadata": {},
   "outputs": [
    {
     "name": "stdout",
     "output_type": "stream",
     "text": [
      "Clase A -> param = Param\n",
      "P Nuevo\n",
      "Clase A -> param = P Nuevo\n"
     ]
    }
   ],
   "source": [
    "class A:\n",
    "    #Constructor\n",
    "    def __init__(self, param):\n",
    "        #Iniciliza un parametro en la clase\n",
    "        self._param = param \n",
    "    \n",
    "    def set(self, p):\n",
    "        self._param = p\n",
    "    \n",
    "    def get(self):\n",
    "        return self._param\n",
    "    \n",
    "    def __str__(self):\n",
    "        return 'Clase A -> param = {}'.format(self._param)\n",
    "    \n",
    "ins = A('Param')\n",
    "print(ins)\n",
    "ins.set('P Nuevo')\n",
    "print(ins.get())\n",
    "print(ins)"
   ]
  },
  {
   "cell_type": "markdown",
   "metadata": {},
   "source": [
    "### Herencia\n",
    "Como otros lenguajes de programación orientados a objetos, Python soporta herencia. La herencia es múltiple, lo que implica que una clase puede extender varias clases. El orden de búsqueda de los métodos es primero en la clase actual, luego en el primer padre (en profundidad), después el segundo, y así en DFS. \n",
    "Otra diferencia importante con C++ o Java, es que si una clase debe implementar una interfaz o método abstracto, este no debe estar definido de forma abstracta ya que las variables son no tipadas. Por ejemplo, para que una clase pueda ser usada como clave en un diccionario solo debe implementar el método `__hash(self)__`, pero no existe ninguna clase abstracta o interfaz en el sentido de Java o C++.\n",
    "#### Ejemplos de Herencia"
   ]
  },
  {
   "cell_type": "code",
   "execution_count": 27,
   "metadata": {},
   "outputs": [
    {
     "name": "stdout",
     "output_type": "stream",
     "text": [
      "Clase A\n",
      "Soy A\n",
      "Clase B\n",
      "Soy B\n",
      "Clase C\n",
      "Soy A\n",
      "Clase D\n",
      "Soy B\n",
      "Clase E\n",
      "Soy A\n",
      "Soy A\n",
      "Soy B\n",
      "Soy E\n"
     ]
    }
   ],
   "source": [
    "class A:\n",
    "    def m1(self):\n",
    "        print('Soy A')\n",
    "        \n",
    "class B:\n",
    "    def m1(self):\n",
    "        print('Soy B')\n",
    "\n",
    "class C(A, B):\n",
    "    pass\n",
    "\n",
    "class D(B, A):\n",
    "    pass\n",
    "\n",
    "class E(A, B):\n",
    "    def m1(self):\n",
    "        super().m1() #llama al método m1 que se encuentra primero en la búsqueda\n",
    "        A.m1(self) #llama estáticamente al método m1 de A, indicando explicitamente cual es el self\n",
    "        B.m1(self) #llama estáticamente al método m1 de B, indicando explicitamente cual es el self\n",
    "        print('Soy E')\n",
    "        \n",
    "        \n",
    "print('Clase A')\n",
    "a = A()\n",
    "a.m1()\n",
    "print('Clase B')\n",
    "b = B()\n",
    "b.m1()\n",
    "print('Clase C')\n",
    "c = C()\n",
    "c.m1()\n",
    "print('Clase D')\n",
    "d = D()\n",
    "d.m1()\n",
    "print('Clase E')\n",
    "e = E()\n",
    "e.m1()"
   ]
  },
  {
   "cell_type": "markdown",
   "metadata": {},
   "source": [
    "### Algunos métodos interesante\n",
    "Python permite definir el comportamiento de un objeto ante el uso de ciertos operadores, como `==`, `in`, `[k]`, `()`. Algunos de estos son descriptos a continuación, para más detalles [Python data model](https://docs.python.org/3/reference/datamodel.html).\n",
    "* `__iter__(self)`: permite obtener un iterador asociado al objeto (comportamiento del objeto `range`). Es invocado por la función `iter(obj)`\n",
    "* `__next__(self)`: hace que el objeto se comporte como un generador. A diferencia de las funciones generador, este método tiene que realizar un `return` cada vez que retorna un valor. Puede ser invocado por las sentencias `for` o por la función `next(gen)`.\n",
    "* `__len__(self)`: se usa en el caso de colecciones, por ejemplo listas, para retornar la cantidad de elementos. Es invocado por la función `len(obj)`.\n",
    "* `__setitem__(self, key, value)`: utilizado para colecciones indexadas para realizar una asignación. Es invocado de la siguiente forma `obj[key] = value`.\n",
    "* `__getitem__(self, key, value)`: utilizado para colecciones indexadas para obtener un valor. Es invocado de la siguiente forma `obj[key]`.\n",
    "* `__deltitem__(self, key, value)`: utilizado para colecciones indexadas eliminar un valor. Es invocado de la siguiente forma `del obj[key]`.\n",
    "* `__contains__(self, item)`: utilizado para verificar si un valor está en una colección. Es invocado de la siguiente forma `value in obj`.\n",
    "* `__call__(self, ...)`: permite que el objeto emule a una función, permitiendo utilizar una instancia para invocarlo.\n"
   ]
  },
  {
   "cell_type": "code",
   "execution_count": 28,
   "metadata": {},
   "outputs": [
    {
     "name": "stdout",
     "output_type": "stream",
     "text": [
      "Llamando al objeto como función\n",
      "Setando Hola en 10\n",
      "Obteniendo valor para 20\n",
      "Valor 20\n",
      "True\n",
      "False\n",
      "10\n",
      "0\n",
      "1\n",
      "2\n",
      "3\n",
      "4\n",
      "5\n",
      "6\n",
      "7\n",
      "8\n",
      "9\n"
     ]
    }
   ],
   "source": [
    "class Ejemplo:\n",
    "    \n",
    "    def __len__(self):\n",
    "        return 10\n",
    "    \n",
    "    def __setitem__(self, k, v):\n",
    "        print('Setando {} en {}'.format(v, k))\n",
    "        \n",
    "    def __getitem__(self, k):\n",
    "        print('Obteniendo valor para {}'.format(k))\n",
    "        return 'Valor {}'.format(k)\n",
    "    \n",
    "    def __contains__(self, val):\n",
    "        return isinstance(val, int) and 0 <= val < 10\n",
    "    \n",
    "    def __call__(self):\n",
    "        print('Llamando al objeto como función')\n",
    "        \n",
    "class MiIterador:\n",
    "    def __init__(self):\n",
    "        self.index = 0\n",
    "        \n",
    "    def __iter__(self):\n",
    "        return self\n",
    "    \n",
    "    def __next__(self):\n",
    "        if (self.index == 10):\n",
    "            self.index = 0\n",
    "            raise StopIteration\n",
    "        i = self.index\n",
    "        self.index += 1\n",
    "        return i\n",
    "\n",
    "ins = Ejemplo()\n",
    "ins()\n",
    "ins[10] = 'Hola'\n",
    "print(ins[20])\n",
    "print(5 in ins)\n",
    "print('Hola' in ins)\n",
    "print(len(ins))\n",
    "ite = MiIterador()\n",
    "for i in ite:\n",
    "    print(i)\n",
    "        "
   ]
  },
  {
   "cell_type": "markdown",
   "metadata": {},
   "source": [
    "# Numpy y compania\n",
    "En este curso se realizarán muchas operaciones de álgebra lineal. Si bien Python es un lenguaje muy poderoso, ciertas operaciones pueden ser muy lentas cuando se comparan con su contrapartida en lenguajes como C o Java. Para resolver este problema, existen muchas librería para Python que permiten acelerar ciertas operación. Una de estas librerías es Numpy, la cual provee implementación eficiente a diversa operaciones con matrices y arreglos."
   ]
  },
  {
   "cell_type": "code",
   "execution_count": 29,
   "metadata": {},
   "outputs": [
    {
     "name": "stdout",
     "output_type": "stream",
     "text": [
      "Imprimendo 'a'\n",
      "1 2 \n",
      "3 4 \n",
      "Utilizando Numpy\n",
      "(2, 2)\n",
      "Imprimendo 'anp'\n",
      "1 2 \n",
      "3 4 \n",
      "Permite operaciones arimeticas básicas como:\n",
      "Sumar un número a todos los valores de la matriz:\n",
      "[[11 12]\n",
      " [13 14]]\n",
      "Multiplicar un número a todos los valores de la matriz (multiplicación escalar):\n",
      "[[10 20]\n",
      " [30 40]]\n",
      "También se puede hacer operaciones elemento a elemento entre dos matrices:\n",
      "[[11 22]\n",
      " [33 44]]\n",
      "Otras operaciones útiles son:\n",
      "Producto interno entre matrices\n",
      "[[ 70 100]\n",
      " [150 220]]\n",
      "Obtener la diagonal\n",
      "[1 4]\n",
      "O vectorizar operaciones para aplicarlas a toda la matriz al mismo tiempo\n",
      "[[ 2  8]\n",
      " [18 32]]\n"
     ]
    }
   ],
   "source": [
    "import numpy as np #Importa numpy y lo renombra a np por comodidad\n",
    "a = [[1,2], [3, 4]] #Lista de listas normales de Python\n",
    "print('Imprimendo \\'a\\'')\n",
    "for i in range(0, len(a)):\n",
    "    for j in range(0, len(a[i])):\n",
    "        print(a[i][j], end=' ') #Notese que se accede a cada índice por separado\n",
    "    print()\n",
    "print('Utilizando Numpy')\n",
    "anp = np.asarray(a) #convierte 'a' a una matriz de numpy.\n",
    "print(anp.shape) #Las matrices numpy tienen la propiedad shape, que indica el tamaño\n",
    "print('Imprimendo \\'anp\\'')\n",
    "for i in range(0, len(a)):\n",
    "    for j in range(0, len(a[i])):\n",
    "        print(anp[i, j], end=' ') #Notese que se accede a cada índice utilizando una tupla de índices\n",
    "    print()\n",
    "print('Permite operaciones arimeticas básicas como:')\n",
    "print('Sumar un número a todos los valores de la matriz:')\n",
    "print(anp + 10)\n",
    "print('Multiplicar un número a todos los valores de la matriz (multiplicación escalar):')\n",
    "print(anp * 10)\n",
    "print('También se puede hacer operaciones elemento a elemento entre dos matrices:')\n",
    "bnp = np.asarray([[10, 20], [30, 40]])\n",
    "print(anp + bnp)\n",
    "print('Otras operaciones útiles son:')\n",
    "print('Producto interno entre matrices')\n",
    "print(np.dot(anp, bnp))\n",
    "print('Obtener la diagonal')\n",
    "print(np.diag(anp))\n",
    "print('O vectorizar operaciones para aplicarlas a toda la matriz al mismo tiempo')\n",
    "def operacion(x):\n",
    "    return (x + x) * x\n",
    "operacion_vectorizada = np.vectorize(operacion)\n",
    "print(operacion_vectorizada(anp))"
   ]
  },
  {
   "cell_type": "markdown",
   "metadata": {},
   "source": [
    "# Un poco de IA\n",
    "Para terminar con esta introducción vamos a hacer un poco de IA. Vamos a trabajar con un problema de clasificación. Esto significa que dado instancia intentaremos asignarle un clase. Trabajaremos con un conjunto de imágenes pequeñas de 8X8 donde cada imagen se corresponde con un dígito del 0 al 9. Este conjunto de datos se encuentra provisto por la librería Sklearn. Para obtener los datos necesitamos importar e invocar a la función `sklearn.datasets.load_digits`. Recuerde utilizar el parámetro `return_X_y=True` para obtener los datos separados en `x` (imágenes) e `y` (clases)."
   ]
  },
  {
   "cell_type": "code",
   "execution_count": 30,
   "metadata": {},
   "outputs": [],
   "source": [
    "from sklearn.datasets import load_digits\n",
    "x, y = load_digits(return_X_y=True)"
   ]
  },
  {
   "cell_type": "markdown",
   "metadata": {},
   "source": [
    "Utilizando la función type, podemos verificar el tipo de los datos de retorno. Investigue un poco el formato de los datos, valores mínimos/máximos, instancias por clase, etc. Puede intentar visualizar los números utilizando matplotlib. Luego divida los datos en dos un conjunto de entrenamiento con el 70% de los datos y uno de prueba con el restante 30%."
   ]
  },
  {
   "cell_type": "code",
   "execution_count": 31,
   "metadata": {},
   "outputs": [
    {
     "name": "stdout",
     "output_type": "stream",
     "text": [
      "Tipo de x: <class 'numpy.ndarray'>\n",
      "Tipo de y: <class 'numpy.ndarray'>\n",
      "Forma de x: (1797, 64)\n",
      "Forma de y: (1797,)\n"
     ]
    }
   ],
   "source": [
    "print('Tipo de x: {}'.format(type(x)))\n",
    "print('Tipo de y: {}'.format(type(y)))\n",
    "print('Forma de x: {}'.format(x.shape))\n",
    "print('Forma de y: {}'.format(y.shape))"
   ]
  },
  {
   "cell_type": "code",
   "execution_count": 32,
   "metadata": {},
   "outputs": [
    {
     "data": {
      "image/png": "[encoded data removed]",
      "text/plain": [
       "<Figure size 432x288 with 25 Axes>"
      ]
     },
     "metadata": {},
     "output_type": "display_data"
    },
    {
     "name": "stdout",
     "output_type": "stream",
     "text": [
      "{0: 178, 1: 182, 2: 177, 3: 183, 4: 181, 5: 182, 6: 181, 7: 179, 8: 174, 9: 180}\n"
     ]
    }
   ],
   "source": [
    "%matplotlib inline\n",
    "import matplotlib.pyplot as plt\n",
    "import numpy as np\n",
    "for i in range(5):\n",
    "    for j in range(5):\n",
    "        ax = plt.subplot(5, 5, i + j*5 + 1)\n",
    "        ax.imshow(np.reshape(x[i + j*5, :], (8,8)), cmap='gray')\n",
    "        ax.set_xticks([])\n",
    "        ax.set_yticks([])\n",
    "plt.show()\n",
    "unique, counts = np.unique(y, return_counts=True)\n",
    "ct = dict(zip(unique, counts))\n",
    "print(ct)"
   ]
  },
  {
   "cell_type": "code",
   "execution_count": 33,
   "metadata": {},
   "outputs": [
    {
     "name": "stdout",
     "output_type": "stream",
     "text": [
      "{0: 178, 1: 182, 2: 177, 3: 183, 4: 181, 5: 182, 6: 181, 7: 179, 8: 174, 9: 180}\n"
     ]
    }
   ],
   "source": [
    "x_train = x[:1257]\n",
    "x_test = x[1257:]\n",
    "y_train = y[:1257]\n",
    "y_test = y[1257:]\n",
    "unique, counts = np.unique(y, return_counts=True)\n",
    "ct = dict(zip(unique, counts))\n",
    "print(ct)"
   ]
  },
  {
   "cell_type": "markdown",
   "metadata": {},
   "source": [
    "Una vez separado el conjunto de datos, podemos probar algunos modelos para ver cual genera el mejor clasificados. Vamos a utilizar la métrica accuracy para probar cual anda mejor. \n",
    "* **SVC**: Clasificador no-lineal que utiliza las instancias de entrenamiento para crear nuevas features. Su costo computacional es cuadratico con el número de instancias, por lo que no escala bien en grandes conjuntos de datos.\n",
    "* **Random Forest**: utiliza varios árboles de decisión que son considerados clasificadores débiles, es decir tienen mucho error. Sin embargo, cuando se usan muchos árboles el error tiende a disminuir.\n",
    "* **Multi-Layer Perceptron**: Estas son redes neuronales que consisten de varias capas fuertemente conectadas.\n",
    "* **Logistic Regression**: Clasificador basado en una función de regresión $h(x)=sigmoid(x.w+b)$.\n",
    "* **K-nearest neighbors**: Clasificador que decide la clase de una instancia mirando las instancias de entrenamiento más parecidas. Para esto se usa una distancia, por defecto la norma L-2 o distancia euclidea."
   ]
  },
  {
   "cell_type": "code",
   "execution_count": 34,
   "metadata": {},
   "outputs": [
    {
     "name": "stdout",
     "output_type": "stream",
     "text": [
      "<class 'sklearn.linear_model.logistic.LogisticRegression'>: 0.9\n",
      "<class 'sklearn.svm.classes.SVC'>: 0.37222222222222223\n",
      "<class 'sklearn.neighbors.classification.KNeighborsClassifier'>: 0.9648148148148148\n",
      "<class 'sklearn.ensemble.forest.RandomForestClassifier'>: 0.9\n",
      "<class 'sklearn.neural_network.multilayer_perceptron.MLPClassifier'>: 0.9277777777777778\n"
     ]
    }
   ],
   "source": [
    "#sklearn.linear_model.LogisticRegression\n",
    "#sklearn.svm.SVC\n",
    "#sklearn.neighbors.KNeighborsClassifier\n",
    "#sklearn.ensemble.RandomForestClassifier\n",
    "#sklearn.neural_network.MLPClassifier\n",
    "#sklearn.metrics.accuracy_score\n",
    "\n",
    "from sklearn.linear_model import LogisticRegression as LR\n",
    "from sklearn.svm import SVC\n",
    "from sklearn.neighbors import KNeighborsClassifier as KN\n",
    "from sklearn.ensemble import RandomForestClassifier as RF\n",
    "from sklearn.neural_network import MLPClassifier as MLP\n",
    "from sklearn.metrics import accuracy_score as acc\n",
    "for cl in [LR, SVC, KN, RF, MLP]:\n",
    "    clf = cl()\n",
    "    clf.fit(x_train, y_train)\n",
    "    print('{}: {}'.format(str(cl), acc(y_test, clf.predict(x_test))))"
   ]
  },
  {
   "cell_type": "markdown",
   "metadata": {},
   "source": [
    "Podemos ver que predice el KNeighborsClassifier"
   ]
  },
  {
   "cell_type": "code",
   "execution_count": 35,
   "metadata": {},
   "outputs": [
    {
     "name": "stdout",
     "output_type": "stream",
     "text": [
      "Predijo: 4. La clase real era: 4, y su imagen...\n"
     ]
    },
    {
     "data": {
      "image/png": "[encoded data removed]",
      "text/plain": [
       "<Figure size 432x288 with 1 Axes>"
      ]
     },
     "metadata": {},
     "output_type": "display_data"
    },
    {
     "name": "stdout",
     "output_type": "stream",
     "text": [
      "Predijo: 0. La clase real era: 0, y su imagen...\n"
     ]
    },
    {
     "data": {
      "image/png": "[encoded data removed]",
      "text/plain": [
       "<Figure size 432x288 with 1 Axes>"
      ]
     },
     "metadata": {},
     "output_type": "display_data"
    },
    {
     "name": "stdout",
     "output_type": "stream",
     "text": [
      "Predijo: 5. La clase real era: 5, y su imagen...\n"
     ]
    },
    {
     "data": {
      "image/png": "[encoded data removed]",
      "text/plain": [
       "<Figure size 432x288 with 1 Axes>"
      ]
     },
     "metadata": {},
     "output_type": "display_data"
    },
    {
     "name": "stdout",
     "output_type": "stream",
     "text": [
      "Predijo: 3. La clase real era: 3, y su imagen...\n"
     ]
    },
    {
     "data": {
      "image/png": "[encoded data removed]",
      "text/plain": [
       "<Figure size 432x288 with 1 Axes>"
      ]
     },
     "metadata": {},
     "output_type": "display_data"
    },
    {
     "name": "stdout",
     "output_type": "stream",
     "text": [
      "Predijo: 6. La clase real era: 6, y su imagen...\n"
     ]
    },
    {
     "data": {
      "image/png": "[encoded data removed]",
      "text/plain": [
       "<Figure size 432x288 with 1 Axes>"
      ]
     },
     "metadata": {},
     "output_type": "display_data"
    },
    {
     "name": "stdout",
     "output_type": "stream",
     "text": [
      "Predijo: 9. La clase real era: 9, y su imagen...\n"
     ]
    },
    {
     "data": {
      "image/png": "[encoded data removed]",
      "text/plain": [
       "<Figure size 432x288 with 1 Axes>"
      ]
     },
     "metadata": {},
     "output_type": "display_data"
    },
    {
     "name": "stdout",
     "output_type": "stream",
     "text": [
      "Predijo: 6. La clase real era: 6, y su imagen...\n"
     ]
    },
    {
     "data": {
      "image/png": "[encoded data removed]",
      "text/plain": [
       "<Figure size 432x288 with 1 Axes>"
      ]
     },
     "metadata": {},
     "output_type": "display_data"
    },
    {
     "name": "stdout",
     "output_type": "stream",
     "text": [
      "Predijo: 1. La clase real era: 1, y su imagen...\n"
     ]
    },
    {
     "data": {
      "image/png": "[encoded data removed]",
      "text/plain": [
       "<Figure size 432x288 with 1 Axes>"
      ]
     },
     "metadata": {},
     "output_type": "display_data"
    },
    {
     "name": "stdout",
     "output_type": "stream",
     "text": [
      "Predijo: 7. La clase real era: 7, y su imagen...\n"
     ]
    },
    {
     "data": {
      "image/png": "[encoded data removed]",
      "text/plain": [
       "<Figure size 432x288 with 1 Axes>"
      ]
     },
     "metadata": {},
     "output_type": "display_data"
    },
    {
     "name": "stdout",
     "output_type": "stream",
     "text": [
      "Predijo: 5. La clase real era: 5, y su imagen...\n"
     ]
    },
    {
     "data": {
      "image/png": "[encoded data removed]",
      "text/plain": [
       "<Figure size 432x288 with 1 Axes>"
      ]
     },
     "metadata": {},
     "output_type": "display_data"
    }
   ],
   "source": [
    "clf = KN()\n",
    "clf.fit(x_train, y_train)\n",
    "y_pred = clf.predict(x_test)\n",
    "for i in range(10):\n",
    "    print('Predijo: {}. La clase real era: {}, y su imagen...'.format(y_test[i], y_pred[i]))\n",
    "    ax = plt.subplot(1, 1, 1)\n",
    "    ax.imshow(np.reshape(x_test[i, :], (8,8)), cmap='gray')\n",
    "    ax.set_xticks([])\n",
    "    ax.set_yticks([])\n",
    "    plt.show()    "
   ]
  },
  {
   "cell_type": "markdown",
   "metadata": {},
   "source": [
    "# Desmitificando los algoritmos de IA\n",
    "![xkcd](https://imgs.xkcd.com/comics/machine_learning.png)\n",
    "[XKCD comic](https://xkcd.com/1838/)\n",
    "\n",
    "En este ejemplo vamos a implementar un clasificador básico que distinga entre dos clases. En particular vamos a hacer una regresión logística, la cual intenta estimar la probabilidad de que una instancia pertenezca a una clase. Para esto consideramos $x$ como un vector de caracterísiticas e $y\\varepsilon\\{0,1\\}$ donde $0$ significa que no pertenece a la clase y $1$ que si pertenece. Por ejemplo, en el *[Breast Bancer Wisconsin Dataset](http://scikit-learn.org/stable/modules/generated/sklearn.datasets.load_breast_cancer.html#sklearn.datasets.load_breast_cancer)*, provisto por SkLearn, 0 significa que un tumor es maligno y 1 que es Benigno.\n",
    "En particular, la regresión logística tiene la siguiente forma:\n",
    "\n",
    "$$h(x)=sigmoid(w\\cdot x+b)$$\n",
    "\n",
    "donde:\n",
    "\n",
    "$$sigmoid(z)=\\frac{1}{1+e^{-z}}$$\n",
    "\n",
    "Vamos a ver porque la sigmoide es una buena función para esto."
   ]
  },
  {
   "cell_type": "code",
   "execution_count": 36,
   "metadata": {},
   "outputs": [
    {
     "data": {
      "image/png": "[encoded data removed]",
      "text/plain": [
       "<Figure size 432x288 with 1 Axes>"
      ]
     },
     "metadata": {},
     "output_type": "display_data"
    }
   ],
   "source": [
    "def sigmoid(z):\n",
    "    return 1 / (1 + np.exp(-z))\n",
    "\n",
    "x = np.linspace(-6, 6, 100)\n",
    "plt.plot(x, sigmoid(x), '-b')\n",
    "plt.show()"
   ]
  },
  {
   "cell_type": "markdown",
   "metadata": {},
   "source": [
    "El objetivo de nuestra regresión logística es encontrar los valores de $w$ y $b$ tal que minimizen una función de error. Generalmente, se utiliza la función de error conocida como entropía cruzada.\n",
    "\n",
    "$$CE(y, \\hat{y})=-y\\cdot log(\\hat{y})-(1-y)\\cdot log(1-\\hat{y})$$\n",
    "\n",
    "donde:\n",
    "\n",
    "$$\\hat{y}=h(x)$$\n",
    "\n",
    "En realidad, como se poseen muchos datos de entrenamiento, se intenta minimizar el promedio, es decir\n",
    "\n",
    "$$J(Y, \\hat{Y})=\\frac{\\sum(-y\\cdot log(\\hat{y})-(1-y)\\cdot log(1-\\hat{y}))}{N}$$\n",
    "\n",
    "Antes de encontrar el error, debemos implementar la función de error:"
   ]
  },
  {
   "cell_type": "code",
   "execution_count": 37,
   "metadata": {},
   "outputs": [],
   "source": [
    "def reg_log(x, w_b):\n",
    "    x = np.concatenate((x, np.ones((x.shape[0], 1))), axis=1)\n",
    "    return sigmoid(np.dot(x, w_b))\n",
    "\n",
    "def error(x, y, w_b):\n",
    "    pred = reg_log(x, w_b)\n",
    "    pred = np.clip(pred, 1e-8, 1-1e-8)\n",
    "    return np.average(-y * np.log(pred) - (1 - y) * np.log(1 - pred))"
   ]
  },
  {
   "cell_type": "markdown",
   "metadata": {},
   "source": [
    "Cargamos los el conjunto de datos y probamos nuestro código:"
   ]
  },
  {
   "cell_type": "code",
   "execution_count": 38,
   "metadata": {},
   "outputs": [
    {
     "name": "stdout",
     "output_type": "stream",
     "text": [
      "1.9407068992424803\n",
      "0.631578947368421\n"
     ]
    },
    {
     "name": "stderr",
     "output_type": "stream",
     "text": [
      "/usr/local/lib/python3.6/dist-packages/sklearn/model_selection/_split.py:2026: FutureWarning: From version 0.21, test_size will always complement train_size unless both are specified.\n",
      "  FutureWarning)\n"
     ]
    }
   ],
   "source": [
    "from sklearn.datasets import load_breast_cancer\n",
    "from sklearn.model_selection import train_test_split\n",
    "\n",
    "x, y = load_breast_cancer(return_X_y=True)\n",
    "x_train, x_test, y_train, y_test = train_test_split(x, y,train_size=0.7, random_state=42)\n",
    "x_min = np.min(x_train, axis=0)\n",
    "x_max = np.max(x_train, axis=0)\n",
    "x_train = (x_train - x_min) / (x_max-x_min)\n",
    "x_test = (x_test - x_min) / (x_max-x_min)\n",
    "\n",
    "w_b = np.random.rand(x_train.shape[1]+1)\n",
    "print(error(x_test, y_test,w_b))\n",
    "print(acc(y_test, np.round(reg_log(x_test, w_b))))"
   ]
  },
  {
   "cell_type": "markdown",
   "metadata": {},
   "source": [
    "Ahora vamos a encontrar los $w$ y $b$ más convenientes. Para esto vamos a usar el método BFGS que viene en Scipy. "
   ]
  },
  {
   "cell_type": "code",
   "execution_count": 39,
   "metadata": {},
   "outputs": [
    {
     "name": "stdout",
     "output_type": "stream",
     "text": [
      "0.9695095222545136\n",
      "0.9473684210526315\n"
     ]
    },
    {
     "name": "stderr",
     "output_type": "stream",
     "text": [
      "/usr/local/lib/python3.6/dist-packages/ipykernel_launcher.py:2: RuntimeWarning: overflow encountered in exp\n",
      "  \n"
     ]
    }
   ],
   "source": [
    "from scipy.optimize import minimize\n",
    "\n",
    "res = minimize(lambda w_b: error(x_train, y_train, w_b), w_b)\n",
    "print(error(x_test, y_test, res.x))\n",
    "print(acc(y_test, np.round(reg_log(x_test, res.x))))"
   ]
  },
  {
   "cell_type": "markdown",
   "metadata": {},
   "source": [
    "#### Para pensar un poco sobre las metricas\n",
    "\n",
    "Minar unobtainium es díficil, solo está presente en el 1% los minerales extraídos. Tricky Joe tiene un dispositivo que detecta determina el tipo de piedra con una precisión (accuracy) del 90% y si la piedra tiene unobtainium siempre da positivo. En la mina, toman una piedra que según el dispositivo de Tricky Joe tiene unobtainum. Tricky Joe quiere vendernos la piedra por U\\$S 200. Si la piedra tiene unobtainium valdría más de U\\$S 1000. ¿Comprarían la piedra?\n",
    "\n",
    "__NOTA__: Ejercicio tomado de [Can you solve the false positive riddle? - Alex Gendler](https://www.youtube.com/watch?v=1csFTDXXULY) TED-Ed.\n"
   ]
  },
  {
   "cell_type": "code",
   "execution_count": null,
   "metadata": {},
   "outputs": [],
   "source": []
  }
 ],
 "metadata": {
  "kernelspec": {
   "display_name": "Python 3",
   "language": "python",
   "name": "python3"
  },
  "language_info": {
   "codemirror_mode": {
    "name": "ipython",
    "version": 3
   },
   "file_extension": ".py",
   "mimetype": "text/x-python",
   "name": "python",
   "nbconvert_exporter": "python",
   "pygments_lexer": "ipython3",
   "version": "3.6.5"
  }
 },
 "nbformat": 4,
 "nbformat_minor": 1
}
